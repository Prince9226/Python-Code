{
 "cells": [
  {
   "cell_type": "markdown",
   "id": "e29392e8-7783-4ba4-8574-faaacbf1b918",
   "metadata": {},
   "source": [
    "## WELCOME NUMPY TUTORIAL"
   ]
  },
  {
   "cell_type": "code",
   "execution_count": 1,
   "id": "16ff6377-8d6f-4aa3-9859-e92b2c6767b3",
   "metadata": {},
   "outputs": [],
   "source": [
    "import numpy as np"
   ]
  },
  {
   "cell_type": "code",
   "execution_count": 2,
   "id": "2db0bf86-6d2c-430f-a5df-5bee7ffca0e7",
   "metadata": {},
   "outputs": [],
   "source": [
    "myarr= np.array([[4,5,8,6]], np.int8)"
   ]
  },
  {
   "cell_type": "code",
   "execution_count": 3,
   "id": "c3f2b30d-1dc9-4534-b115-2f07fdbe6e12",
   "metadata": {},
   "outputs": [
    {
     "data": {
      "text/plain": [
       "(1, 4)"
      ]
     },
     "execution_count": 3,
     "metadata": {},
     "output_type": "execute_result"
    }
   ],
   "source": [
    "myarr.shape"
   ]
  },
  {
   "cell_type": "code",
   "execution_count": 4,
   "id": "30d7a034-02a7-42a5-a4d6-1035613835f5",
   "metadata": {},
   "outputs": [
    {
     "data": {
      "text/plain": [
       "dtype('int8')"
      ]
     },
     "execution_count": 4,
     "metadata": {},
     "output_type": "execute_result"
    }
   ],
   "source": [
    "myarr.dtype"
   ]
  },
  {
   "cell_type": "code",
   "execution_count": 5,
   "id": "823e82d9-e172-4792-9c7b-1a9dfb000be1",
   "metadata": {},
   "outputs": [
    {
     "data": {
      "text/plain": [
       "np.int8(5)"
      ]
     },
     "execution_count": 5,
     "metadata": {},
     "output_type": "execute_result"
    }
   ],
   "source": [
    "myarr[0,1] "
   ]
  },
  {
   "cell_type": "code",
   "execution_count": 6,
   "id": "130da5c1-5b36-4c58-a29e-679ea0112de0",
   "metadata": {},
   "outputs": [],
   "source": [
    "myarr[0,1]=55"
   ]
  },
  {
   "cell_type": "code",
   "execution_count": 7,
   "id": "28595d30-7c2d-48d8-a8f7-66125df8c84e",
   "metadata": {},
   "outputs": [
    {
     "data": {
      "text/plain": [
       "array([[ 4, 55,  8,  6]], dtype=int8)"
      ]
     },
     "execution_count": 7,
     "metadata": {},
     "output_type": "execute_result"
    }
   ],
   "source": [
    "myarr"
   ]
  },
  {
   "cell_type": "markdown",
   "id": "1369a85c-f0ef-47e7-b29c-ac610c59bcde",
   "metadata": {},
   "source": [
    "## Array Creation: Conversion from other Python structures"
   ]
  },
  {
   "cell_type": "code",
   "execution_count": 8,
   "id": "33d5ecc3-f8d6-4c78-a5d3-19725e5e9904",
   "metadata": {},
   "outputs": [],
   "source": [
    "listarray=np.array([[1,4,3], [5,7,2],[9,3,6]])"
   ]
  },
  {
   "cell_type": "code",
   "execution_count": 9,
   "id": "d8da99e2-ecfd-4233-9bf5-b87909ece5c9",
   "metadata": {},
   "outputs": [
    {
     "data": {
      "text/plain": [
       "array([[1, 4, 3],\n",
       "       [5, 7, 2],\n",
       "       [9, 3, 6]])"
      ]
     },
     "execution_count": 9,
     "metadata": {},
     "output_type": "execute_result"
    }
   ],
   "source": [
    "listarray"
   ]
  },
  {
   "cell_type": "code",
   "execution_count": 10,
   "id": "f3b5f422-522b-4374-9b10-1a63af2ecd35",
   "metadata": {},
   "outputs": [
    {
     "data": {
      "text/plain": [
       "dtype('int64')"
      ]
     },
     "execution_count": 10,
     "metadata": {},
     "output_type": "execute_result"
    }
   ],
   "source": [
    "listarray.dtype"
   ]
  },
  {
   "cell_type": "code",
   "execution_count": 11,
   "id": "e0b7d9eb-d98d-49d3-a996-bd6eeddf5bb1",
   "metadata": {},
   "outputs": [
    {
     "data": {
      "text/plain": [
       "(3, 3)"
      ]
     },
     "execution_count": 11,
     "metadata": {},
     "output_type": "execute_result"
    }
   ],
   "source": [
    "listarray.shape"
   ]
  },
  {
   "cell_type": "code",
   "execution_count": 12,
   "id": "9289df72-3f8c-434e-b377-818e572294ca",
   "metadata": {},
   "outputs": [
    {
     "data": {
      "text/plain": [
       "9"
      ]
     },
     "execution_count": 12,
     "metadata": {},
     "output_type": "execute_result"
    }
   ],
   "source": [
    "listarray.size"
   ]
  },
  {
   "cell_type": "code",
   "execution_count": 13,
   "id": "ef39ef11-c0a6-40cf-a586-d71ef7f413e8",
   "metadata": {},
   "outputs": [
    {
     "data": {
      "text/plain": [
       "array({33, 98, 67}, dtype=object)"
      ]
     },
     "execution_count": 13,
     "metadata": {},
     "output_type": "execute_result"
    }
   ],
   "source": [
    "np.array({33,98,67})"
   ]
  },
  {
   "cell_type": "code",
   "execution_count": 14,
   "id": "dd9bd2fd-0fea-41d9-bb22-9f159ee3b68e",
   "metadata": {},
   "outputs": [],
   "source": [
    "zeros=np.zeros((2,4))"
   ]
  },
  {
   "cell_type": "code",
   "execution_count": 15,
   "id": "f6102014-9381-4ac7-a056-34ad10e9bdd6",
   "metadata": {},
   "outputs": [
    {
     "data": {
      "text/plain": [
       "array([[0., 0., 0., 0.],\n",
       "       [0., 0., 0., 0.]])"
      ]
     },
     "execution_count": 15,
     "metadata": {},
     "output_type": "execute_result"
    }
   ],
   "source": [
    "zeros"
   ]
  },
  {
   "cell_type": "code",
   "execution_count": 16,
   "id": "418584e4-bbe2-42ac-abf5-e1973ce8dd0a",
   "metadata": {},
   "outputs": [
    {
     "data": {
      "text/plain": [
       "dtype('float64')"
      ]
     },
     "execution_count": 16,
     "metadata": {},
     "output_type": "execute_result"
    }
   ],
   "source": [
    "zeros.dtype"
   ]
  },
  {
   "cell_type": "code",
   "execution_count": 17,
   "id": "8120a544-0215-4164-89cf-f4656130e1b8",
   "metadata": {},
   "outputs": [],
   "source": [
    "range=np.arange(12)"
   ]
  },
  {
   "cell_type": "code",
   "execution_count": 18,
   "id": "5abc3802-8164-4cc9-aa1b-e48a8e81dbce",
   "metadata": {},
   "outputs": [
    {
     "data": {
      "text/plain": [
       "array([ 0,  1,  2,  3,  4,  5,  6,  7,  8,  9, 10, 11])"
      ]
     },
     "execution_count": 18,
     "metadata": {},
     "output_type": "execute_result"
    }
   ],
   "source": [
    "range"
   ]
  },
  {
   "cell_type": "code",
   "execution_count": 19,
   "id": "e620a870-96d5-4156-bcb4-cfe69fbbeb14",
   "metadata": {},
   "outputs": [],
   "source": [
    "lspace=np.linspace(1,5,4)"
   ]
  },
  {
   "cell_type": "code",
   "execution_count": 20,
   "id": "c5e8e319-9fdb-433f-b451-f6d2b2b7a0d6",
   "metadata": {},
   "outputs": [
    {
     "data": {
      "text/plain": [
       "array([1.        , 2.33333333, 3.66666667, 5.        ])"
      ]
     },
     "execution_count": 20,
     "metadata": {},
     "output_type": "execute_result"
    }
   ],
   "source": [
    "lspace"
   ]
  },
  {
   "cell_type": "code",
   "execution_count": 21,
   "id": "b4067d2e-1a91-47b7-a10c-3ba3c29d41f6",
   "metadata": {},
   "outputs": [],
   "source": [
    "emp=np.empty((4,6))"
   ]
  },
  {
   "cell_type": "code",
   "execution_count": 22,
   "id": "c6f7d401-5609-4760-87fc-1d6af71d1b40",
   "metadata": {},
   "outputs": [
    {
     "data": {
      "text/plain": [
       "array([[ 1.05789962e-311,  1.05789962e-311,  1.05789962e-311,\n",
       "         1.05789962e-311,  1.05789962e-311,  1.05789962e-311],\n",
       "       [ 1.05789962e-311,  1.05789962e-311,  1.05789961e-311,\n",
       "         1.05789962e-311,  1.05789962e-311,  1.05789962e-311],\n",
       "       [ 1.05789962e-311,  1.05789961e-311,  1.05789962e-311,\n",
       "         1.05789962e-311,  1.05789961e-311,  1.05789962e-311],\n",
       "       [ 1.05789962e-311, -9.77848868e-311,  0.00000000e+000,\n",
       "         0.00000000e+000,  0.00000000e+000,  0.00000000e+000]])"
      ]
     },
     "execution_count": 22,
     "metadata": {},
     "output_type": "execute_result"
    }
   ],
   "source": [
    "emp"
   ]
  },
  {
   "cell_type": "code",
   "execution_count": 23,
   "id": "4d980291-af0b-4bc8-9f6d-835ee1aa58c4",
   "metadata": {},
   "outputs": [],
   "source": [
    "emp_like=np.empty_like((lspace))"
   ]
  },
  {
   "cell_type": "code",
   "execution_count": 24,
   "id": "f0fa247d-c07e-4fe6-bb85-186ac3d54f71",
   "metadata": {},
   "outputs": [
    {
     "data": {
      "text/plain": [
       "array([1.        , 2.33333333, 3.66666667, 5.        ])"
      ]
     },
     "execution_count": 24,
     "metadata": {},
     "output_type": "execute_result"
    }
   ],
   "source": [
    "emp_like"
   ]
  },
  {
   "cell_type": "code",
   "execution_count": 25,
   "id": "9015cafb-154f-48d4-9e6a-70f45af290a8",
   "metadata": {},
   "outputs": [],
   "source": [
    "ide=np.identity(50)"
   ]
  },
  {
   "cell_type": "code",
   "execution_count": 26,
   "id": "3605c009-336a-450e-9e8a-0a204ae3766c",
   "metadata": {},
   "outputs": [
    {
     "data": {
      "text/plain": [
       "array([[1., 0., 0., ..., 0., 0., 0.],\n",
       "       [0., 1., 0., ..., 0., 0., 0.],\n",
       "       [0., 0., 1., ..., 0., 0., 0.],\n",
       "       ...,\n",
       "       [0., 0., 0., ..., 1., 0., 0.],\n",
       "       [0., 0., 0., ..., 0., 1., 0.],\n",
       "       [0., 0., 0., ..., 0., 0., 1.]], shape=(50, 50))"
      ]
     },
     "execution_count": 26,
     "metadata": {},
     "output_type": "execute_result"
    }
   ],
   "source": [
    "ide"
   ]
  },
  {
   "cell_type": "code",
   "execution_count": 27,
   "id": "72cc911a-5ceb-40d7-8cca-ffd706d5d5be",
   "metadata": {},
   "outputs": [
    {
     "data": {
      "text/plain": [
       "(50, 50)"
      ]
     },
     "execution_count": 27,
     "metadata": {},
     "output_type": "execute_result"
    }
   ],
   "source": [
    "ide.shape"
   ]
  },
  {
   "cell_type": "code",
   "execution_count": 28,
   "id": "b3ff6ba7-e484-42c2-ace2-ff4b4bdebe7d",
   "metadata": {},
   "outputs": [],
   "source": [
    "Array=np.arange((100))"
   ]
  },
  {
   "cell_type": "code",
   "execution_count": 29,
   "id": "a655c41d-24a7-4860-918c-1e6212b69bf2",
   "metadata": {},
   "outputs": [
    {
     "data": {
      "text/plain": [
       "array([ 0,  1,  2,  3,  4,  5,  6,  7,  8,  9, 10, 11, 12, 13, 14, 15, 16,\n",
       "       17, 18, 19, 20, 21, 22, 23, 24, 25, 26, 27, 28, 29, 30, 31, 32, 33,\n",
       "       34, 35, 36, 37, 38, 39, 40, 41, 42, 43, 44, 45, 46, 47, 48, 49, 50,\n",
       "       51, 52, 53, 54, 55, 56, 57, 58, 59, 60, 61, 62, 63, 64, 65, 66, 67,\n",
       "       68, 69, 70, 71, 72, 73, 74, 75, 76, 77, 78, 79, 80, 81, 82, 83, 84,\n",
       "       85, 86, 87, 88, 89, 90, 91, 92, 93, 94, 95, 96, 97, 98, 99])"
      ]
     },
     "execution_count": 29,
     "metadata": {},
     "output_type": "execute_result"
    }
   ],
   "source": [
    "Array"
   ]
  },
  {
   "cell_type": "code",
   "execution_count": 30,
   "id": "d77432f0-f3c6-4af6-aca6-d3bb63a6f4b9",
   "metadata": {},
   "outputs": [],
   "source": [
    "Array=Array.reshape(5,20)"
   ]
  },
  {
   "cell_type": "code",
   "execution_count": 31,
   "id": "60916087-525e-4253-a8c2-ade79b80631e",
   "metadata": {},
   "outputs": [
    {
     "data": {
      "text/plain": [
       "array([[ 0,  1,  2,  3,  4,  5,  6,  7,  8,  9, 10, 11, 12, 13, 14, 15,\n",
       "        16, 17, 18, 19],\n",
       "       [20, 21, 22, 23, 24, 25, 26, 27, 28, 29, 30, 31, 32, 33, 34, 35,\n",
       "        36, 37, 38, 39],\n",
       "       [40, 41, 42, 43, 44, 45, 46, 47, 48, 49, 50, 51, 52, 53, 54, 55,\n",
       "        56, 57, 58, 59],\n",
       "       [60, 61, 62, 63, 64, 65, 66, 67, 68, 69, 70, 71, 72, 73, 74, 75,\n",
       "        76, 77, 78, 79],\n",
       "       [80, 81, 82, 83, 84, 85, 86, 87, 88, 89, 90, 91, 92, 93, 94, 95,\n",
       "        96, 97, 98, 99]])"
      ]
     },
     "execution_count": 31,
     "metadata": {},
     "output_type": "execute_result"
    }
   ],
   "source": [
    "Array"
   ]
  },
  {
   "cell_type": "code",
   "execution_count": 32,
   "id": "5cacfba5-2274-4053-93dc-41dca1073d62",
   "metadata": {},
   "outputs": [
    {
     "data": {
      "text/plain": [
       "array([[ 0,  1,  2,  3,  4,  5,  6,  7,  8,  9, 10, 11, 12, 13, 14, 15,\n",
       "        16, 17, 18, 19],\n",
       "       [20, 21, 22, 23, 24, 25, 26, 27, 28, 29, 30, 31, 32, 33, 34, 35,\n",
       "        36, 37, 38, 39],\n",
       "       [40, 41, 42, 43, 44, 45, 46, 47, 48, 49, 50, 51, 52, 53, 54, 55,\n",
       "        56, 57, 58, 59],\n",
       "       [60, 61, 62, 63, 64, 65, 66, 67, 68, 69, 70, 71, 72, 73, 74, 75,\n",
       "        76, 77, 78, 79],\n",
       "       [80, 81, 82, 83, 84, 85, 86, 87, 88, 89, 90, 91, 92, 93, 94, 95,\n",
       "        96, 97, 98, 99]])"
      ]
     },
     "execution_count": 32,
     "metadata": {},
     "output_type": "execute_result"
    }
   ],
   "source": [
    "Array"
   ]
  },
  {
   "cell_type": "code",
   "execution_count": 33,
   "id": "26a8a3db-fda2-4f35-8585-0d63bec2edde",
   "metadata": {},
   "outputs": [
    {
     "data": {
      "text/plain": [
       "array([ 0,  1,  2,  3,  4,  5,  6,  7,  8,  9, 10, 11, 12, 13, 14, 15, 16,\n",
       "       17, 18, 19, 20, 21, 22, 23, 24, 25, 26, 27, 28, 29, 30, 31, 32, 33,\n",
       "       34, 35, 36, 37, 38, 39, 40, 41, 42, 43, 44, 45, 46, 47, 48, 49, 50,\n",
       "       51, 52, 53, 54, 55, 56, 57, 58, 59, 60, 61, 62, 63, 64, 65, 66, 67,\n",
       "       68, 69, 70, 71, 72, 73, 74, 75, 76, 77, 78, 79, 80, 81, 82, 83, 84,\n",
       "       85, 86, 87, 88, 89, 90, 91, 92, 93, 94, 95, 96, 97, 98, 99])"
      ]
     },
     "execution_count": 33,
     "metadata": {},
     "output_type": "execute_result"
    }
   ],
   "source": [
    "Array.ravel()"
   ]
  },
  {
   "cell_type": "code",
   "execution_count": 34,
   "id": "07a560ba-377b-4ae3-95e6-90e9d796c503",
   "metadata": {},
   "outputs": [
    {
     "data": {
      "text/plain": [
       "(5, 20)"
      ]
     },
     "execution_count": 34,
     "metadata": {},
     "output_type": "execute_result"
    }
   ],
   "source": [
    "Array.shape"
   ]
  },
  {
   "cell_type": "code",
   "execution_count": 35,
   "id": "9dbcb29b-7f8d-4a08-a9af-a3658a169e3f",
   "metadata": {},
   "outputs": [],
   "source": [
    "x=[[2,4,5],[5,3,9],[11,4,1]]"
   ]
  },
  {
   "cell_type": "code",
   "execution_count": 36,
   "id": "b7bafd14-36e8-4505-8035-c4dd6fa3253f",
   "metadata": {},
   "outputs": [],
   "source": [
    "ar=np.array(x)"
   ]
  },
  {
   "cell_type": "code",
   "execution_count": 37,
   "id": "2c99be10-994e-4e71-80a4-9666327bc16e",
   "metadata": {},
   "outputs": [
    {
     "data": {
      "text/plain": [
       "array([[ 2,  4,  5],\n",
       "       [ 5,  3,  9],\n",
       "       [11,  4,  1]])"
      ]
     },
     "execution_count": 37,
     "metadata": {},
     "output_type": "execute_result"
    }
   ],
   "source": [
    "ar"
   ]
  },
  {
   "cell_type": "code",
   "execution_count": 38,
   "id": "ec6e226e-3c37-4744-b076-e096608fb1d7",
   "metadata": {},
   "outputs": [
    {
     "data": {
      "text/plain": [
       "array([18, 11, 15])"
      ]
     },
     "execution_count": 38,
     "metadata": {},
     "output_type": "execute_result"
    }
   ],
   "source": [
    "ar.sum(axis=0)      ## add column"
   ]
  },
  {
   "cell_type": "code",
   "execution_count": 39,
   "id": "c36a500d-ee3b-47c8-80c2-1c0e7f453335",
   "metadata": {},
   "outputs": [
    {
     "data": {
      "text/plain": [
       "array([11, 17, 16])"
      ]
     },
     "execution_count": 39,
     "metadata": {},
     "output_type": "execute_result"
    }
   ],
   "source": [
    "ar.sum(axis=1)    ## add row"
   ]
  },
  {
   "cell_type": "code",
   "execution_count": 40,
   "id": "dfce36d3-afcd-4baf-bbb4-3620daf60727",
   "metadata": {},
   "outputs": [
    {
     "data": {
      "text/plain": [
       "array([[ 2,  5, 11],\n",
       "       [ 4,  3,  4],\n",
       "       [ 5,  9,  1]])"
      ]
     },
     "execution_count": 40,
     "metadata": {},
     "output_type": "execute_result"
    }
   ],
   "source": [
    "ar.T         ## transpose the array"
   ]
  },
  {
   "cell_type": "code",
   "execution_count": 41,
   "id": "dd6c2cec-c6a7-429a-ac83-9419233ac91a",
   "metadata": {},
   "outputs": [
    {
     "data": {
      "text/plain": [
       "<numpy.flatiter at 0x1f28d8a68a0>"
      ]
     },
     "execution_count": 41,
     "metadata": {},
     "output_type": "execute_result"
    }
   ],
   "source": [
    "ar.flat"
   ]
  },
  {
   "cell_type": "code",
   "execution_count": 42,
   "id": "0b36996b-b8b4-49bb-ab7e-484fec2266f1",
   "metadata": {},
   "outputs": [
    {
     "name": "stdout",
     "output_type": "stream",
     "text": [
      "2\n",
      "4\n",
      "5\n",
      "5\n",
      "3\n",
      "9\n",
      "11\n",
      "4\n",
      "1\n"
     ]
    }
   ],
   "source": [
    "for item in ar.flat:     ## total items prints in my array\n",
    "    print(item)"
   ]
  },
  {
   "cell_type": "code",
   "execution_count": 43,
   "id": "bf9a23c1-65c6-442a-aedd-ae32544a3cc6",
   "metadata": {},
   "outputs": [
    {
     "data": {
      "text/plain": [
       "2"
      ]
     },
     "execution_count": 43,
     "metadata": {},
     "output_type": "execute_result"
    }
   ],
   "source": [
    "ar.ndim         ## no. of daimension"
   ]
  },
  {
   "cell_type": "code",
   "execution_count": 44,
   "id": "de7431dd-72be-4462-82ff-833544d26564",
   "metadata": {},
   "outputs": [
    {
     "data": {
      "text/plain": [
       "9"
      ]
     },
     "execution_count": 44,
     "metadata": {},
     "output_type": "execute_result"
    }
   ],
   "source": [
    "ar.size        ## How many elements in my array"
   ]
  },
  {
   "cell_type": "code",
   "execution_count": 45,
   "id": "180932ea-cb5e-4f19-8634-4605f4712f72",
   "metadata": {},
   "outputs": [
    {
     "data": {
      "text/plain": [
       "72"
      ]
     },
     "execution_count": 45,
     "metadata": {},
     "output_type": "execute_result"
    }
   ],
   "source": [
    "ar.nbytes      ## total bytes consume in my array"
   ]
  },
  {
   "cell_type": "code",
   "execution_count": 46,
   "id": "7d36e9a3-3957-4392-8465-ac1912e8983d",
   "metadata": {},
   "outputs": [],
   "source": [
    "one=np.array([2,8,443,32,111])"
   ]
  },
  {
   "cell_type": "code",
   "execution_count": 47,
   "id": "8104a7ab-7f45-4417-a430-3051a240a541",
   "metadata": {},
   "outputs": [
    {
     "data": {
      "text/plain": [
       "np.int64(2)"
      ]
     },
     "execution_count": 47,
     "metadata": {},
     "output_type": "execute_result"
    }
   ],
   "source": [
    "one.argmax()      ## index where your max value"
   ]
  },
  {
   "cell_type": "code",
   "execution_count": 48,
   "id": "917a176c-de1d-425a-8483-b593705120ec",
   "metadata": {},
   "outputs": [
    {
     "data": {
      "text/plain": [
       "np.int64(0)"
      ]
     },
     "execution_count": 48,
     "metadata": {},
     "output_type": "execute_result"
    }
   ],
   "source": [
    "one.argmin()          ## index where your min value"
   ]
  },
  {
   "cell_type": "code",
   "execution_count": 49,
   "id": "2a22dc34-2368-4490-8cd7-a13a230ae920",
   "metadata": {},
   "outputs": [
    {
     "data": {
      "text/plain": [
       "array([0, 1, 3, 4, 2])"
      ]
     },
     "execution_count": 49,
     "metadata": {},
     "output_type": "execute_result"
    }
   ],
   "source": [
    "one.argsort()"
   ]
  },
  {
   "cell_type": "code",
   "execution_count": 50,
   "id": "8f1910cd-cdcd-4cad-8c0b-f89ead4e06df",
   "metadata": {},
   "outputs": [
    {
     "data": {
      "text/plain": [
       "array([[ 2,  4,  5],\n",
       "       [ 5,  3,  9],\n",
       "       [11,  4,  1]])"
      ]
     },
     "execution_count": 50,
     "metadata": {},
     "output_type": "execute_result"
    }
   ],
   "source": [
    "ar"
   ]
  },
  {
   "cell_type": "code",
   "execution_count": 51,
   "id": "cceb4926-1e28-43ff-bd86-4cfa9f88082a",
   "metadata": {},
   "outputs": [
    {
     "data": {
      "text/plain": [
       "np.int64(8)"
      ]
     },
     "execution_count": 51,
     "metadata": {},
     "output_type": "execute_result"
    }
   ],
   "source": [
    "ar.argmin()"
   ]
  },
  {
   "cell_type": "code",
   "execution_count": 52,
   "id": "d6449e12-0b8a-4053-ac07-444ec1b4bf0e",
   "metadata": {},
   "outputs": [
    {
     "data": {
      "text/plain": [
       "np.int64(6)"
      ]
     },
     "execution_count": 52,
     "metadata": {},
     "output_type": "execute_result"
    }
   ],
   "source": [
    "ar.argmax()"
   ]
  },
  {
   "cell_type": "code",
   "execution_count": 53,
   "id": "5727025a-67bc-44ef-a584-b369a26be346",
   "metadata": {},
   "outputs": [
    {
     "data": {
      "text/plain": [
       "array([2, 0, 1])"
      ]
     },
     "execution_count": 53,
     "metadata": {},
     "output_type": "execute_result"
    }
   ],
   "source": [
    "ar.argmax(axis=0)"
   ]
  },
  {
   "cell_type": "code",
   "execution_count": 54,
   "id": "4a78f281-06e5-407c-9b9c-f522e81cabda",
   "metadata": {},
   "outputs": [
    {
     "data": {
      "text/plain": [
       "array([2, 2, 0])"
      ]
     },
     "execution_count": 54,
     "metadata": {},
     "output_type": "execute_result"
    }
   ],
   "source": [
    "ar.argmax(axis=1)"
   ]
  },
  {
   "cell_type": "code",
   "execution_count": 55,
   "id": "a52a11e3-a43c-4a9b-94e1-2f8f672062a4",
   "metadata": {},
   "outputs": [
    {
     "data": {
      "text/plain": [
       "array([[0, 1, 2],\n",
       "       [1, 0, 0],\n",
       "       [2, 2, 1]])"
      ]
     },
     "execution_count": 55,
     "metadata": {},
     "output_type": "execute_result"
    }
   ],
   "source": [
    "ar.argsort(axis=0)"
   ]
  },
  {
   "cell_type": "code",
   "execution_count": 56,
   "id": "205e69b1-f90d-495e-b106-62a8714a3c7c",
   "metadata": {},
   "outputs": [
    {
     "data": {
      "text/plain": [
       "array([[0, 1, 2],\n",
       "       [1, 0, 2],\n",
       "       [2, 1, 0]])"
      ]
     },
     "execution_count": 56,
     "metadata": {},
     "output_type": "execute_result"
    }
   ],
   "source": [
    "ar.argsort(axis=1)"
   ]
  },
  {
   "cell_type": "code",
   "execution_count": 57,
   "id": "e59a668e-9386-4e01-b808-bfc677bc1311",
   "metadata": {},
   "outputs": [
    {
     "data": {
      "text/plain": [
       "array([ 2,  4,  5,  5,  3,  9, 11,  4,  1])"
      ]
     },
     "execution_count": 57,
     "metadata": {},
     "output_type": "execute_result"
    }
   ],
   "source": [
    "ar.ravel()     ## straight the array"
   ]
  },
  {
   "cell_type": "code",
   "execution_count": 58,
   "id": "774b0447-a606-4818-bf30-ab53b34a7f5c",
   "metadata": {},
   "outputs": [
    {
     "data": {
      "text/plain": [
       "array([[ 2,  4,  5],\n",
       "       [ 5,  3,  9],\n",
       "       [11,  4,  1]])"
      ]
     },
     "execution_count": 58,
     "metadata": {},
     "output_type": "execute_result"
    }
   ],
   "source": [
    "ar"
   ]
  },
  {
   "cell_type": "code",
   "execution_count": 59,
   "id": "8c195a58-4c42-4714-a3f4-217d5b460b6c",
   "metadata": {},
   "outputs": [],
   "source": [
    "ar2=np.array([[1,5,6],[3,7,9],[1,4,3]])"
   ]
  },
  {
   "cell_type": "code",
   "execution_count": 60,
   "id": "a34a7255-2397-496e-9c3f-7eedc6f48ac2",
   "metadata": {},
   "outputs": [
    {
     "data": {
      "text/plain": [
       "array([[ 3,  9, 11],\n",
       "       [ 8, 10, 18],\n",
       "       [12,  8,  4]])"
      ]
     },
     "execution_count": 60,
     "metadata": {},
     "output_type": "execute_result"
    }
   ],
   "source": [
    "ar+ar2"
   ]
  },
  {
   "cell_type": "code",
   "execution_count": 61,
   "id": "266fc763-2710-4a40-a795-72d42e107301",
   "metadata": {},
   "outputs": [
    {
     "data": {
      "text/plain": [
       "[125, 44, 55, 85]"
      ]
     },
     "execution_count": 61,
     "metadata": {},
     "output_type": "execute_result"
    }
   ],
   "source": [
    "[125,44]+[55,85]"
   ]
  },
  {
   "cell_type": "code",
   "execution_count": 62,
   "id": "f606cd98-dce7-46b7-bc78-39cf46cc637d",
   "metadata": {},
   "outputs": [
    {
     "data": {
      "text/plain": [
       "array([[ 2, 20, 30],\n",
       "       [15, 21, 81],\n",
       "       [11, 16,  3]])"
      ]
     },
     "execution_count": 62,
     "metadata": {},
     "output_type": "execute_result"
    }
   ],
   "source": [
    "ar*ar2       ## multiply the array element wise"
   ]
  },
  {
   "cell_type": "code",
   "execution_count": 63,
   "id": "3b0dc785-b241-44e4-84ce-123d9e83bc36",
   "metadata": {},
   "outputs": [
    {
     "data": {
      "text/plain": [
       "array([[ 2,  4,  5],\n",
       "       [ 5,  3,  9],\n",
       "       [11,  4,  1]])"
      ]
     },
     "execution_count": 63,
     "metadata": {},
     "output_type": "execute_result"
    }
   ],
   "source": [
    "ar"
   ]
  },
  {
   "cell_type": "code",
   "execution_count": 64,
   "id": "40cffe1c-5836-4662-bae0-de12c432d329",
   "metadata": {},
   "outputs": [
    {
     "data": {
      "text/plain": [
       "array([[1, 5, 6],\n",
       "       [3, 7, 9],\n",
       "       [1, 4, 3]])"
      ]
     },
     "execution_count": 64,
     "metadata": {},
     "output_type": "execute_result"
    }
   ],
   "source": [
    "ar2"
   ]
  },
  {
   "cell_type": "code",
   "execution_count": 65,
   "id": "bfad86f9-71f7-42a2-a564-d07fcf85ae34",
   "metadata": {},
   "outputs": [
    {
     "data": {
      "text/plain": [
       "array([[1.41421356, 2.        , 2.23606798],\n",
       "       [2.23606798, 1.73205081, 3.        ],\n",
       "       [3.31662479, 2.        , 1.        ]])"
      ]
     },
     "execution_count": 65,
     "metadata": {},
     "output_type": "execute_result"
    }
   ],
   "source": [
    "np.sqrt(ar)         ## squre"
   ]
  },
  {
   "cell_type": "code",
   "execution_count": 66,
   "id": "fb8d0f16-a8eb-4412-a0fb-532081102b91",
   "metadata": {},
   "outputs": [
    {
     "data": {
      "text/plain": [
       "np.int64(44)"
      ]
     },
     "execution_count": 66,
     "metadata": {},
     "output_type": "execute_result"
    }
   ],
   "source": [
    "ar.sum()"
   ]
  },
  {
   "cell_type": "code",
   "execution_count": 67,
   "id": "c2aa07e3-21c6-4238-b5ee-24c91be032c7",
   "metadata": {},
   "outputs": [
    {
     "data": {
      "text/plain": [
       "np.int64(11)"
      ]
     },
     "execution_count": 67,
     "metadata": {},
     "output_type": "execute_result"
    }
   ],
   "source": [
    "ar.max()"
   ]
  },
  {
   "cell_type": "code",
   "execution_count": 68,
   "id": "233995b1-4309-4768-b1be-ff518a55c7ec",
   "metadata": {},
   "outputs": [
    {
     "data": {
      "text/plain": [
       "np.int64(1)"
      ]
     },
     "execution_count": 68,
     "metadata": {},
     "output_type": "execute_result"
    }
   ],
   "source": [
    "ar.min()"
   ]
  },
  {
   "cell_type": "code",
   "execution_count": 69,
   "id": "dea424ff-5d5d-4c05-a1b9-bb62d2bce7d3",
   "metadata": {},
   "outputs": [
    {
     "data": {
      "text/plain": [
       "(array([0, 0, 1, 1, 1, 2, 2]), array([1, 2, 0, 1, 2, 0, 1]))"
      ]
     },
     "execution_count": 69,
     "metadata": {},
     "output_type": "execute_result"
    }
   ],
   "source": [
    "np.where(ar>2)"
   ]
  },
  {
   "cell_type": "code",
   "execution_count": 70,
   "id": "13e86a97-67d6-49cf-96cf-d8729e49f9d6",
   "metadata": {},
   "outputs": [
    {
     "data": {
      "text/plain": [
       "9"
      ]
     },
     "execution_count": 70,
     "metadata": {},
     "output_type": "execute_result"
    }
   ],
   "source": [
    "np.count_nonzero(ar)"
   ]
  },
  {
   "cell_type": "code",
   "execution_count": 71,
   "id": "77279d56-0c65-4d55-8c58-b7507fdbf609",
   "metadata": {},
   "outputs": [
    {
     "data": {
      "text/plain": [
       "(array([0, 0, 0, 1, 1, 1, 2, 2, 2]), array([0, 1, 2, 0, 1, 2, 0, 1, 2]))"
      ]
     },
     "execution_count": 71,
     "metadata": {},
     "output_type": "execute_result"
    }
   ],
   "source": [
    "np.nonzero(ar)"
   ]
  },
  {
   "cell_type": "code",
   "execution_count": 72,
   "id": "5e5a571b-323a-4e36-afa9-9b2f872ca23b",
   "metadata": {},
   "outputs": [],
   "source": [
    "ar[1,2]=0"
   ]
  },
  {
   "cell_type": "code",
   "execution_count": 73,
   "id": "5651d10f-7f6a-42be-9997-e4d4cf957689",
   "metadata": {},
   "outputs": [
    {
     "data": {
      "text/plain": [
       "(array([0, 0, 0, 1, 1, 2, 2, 2]), array([0, 1, 2, 0, 1, 0, 1, 2]))"
      ]
     },
     "execution_count": 73,
     "metadata": {},
     "output_type": "execute_result"
    }
   ],
   "source": [
    "np.nonzero(ar)"
   ]
  },
  {
   "cell_type": "code",
   "execution_count": 74,
   "id": "d1d73a43-f900-40b3-87cb-8f2f6c061951",
   "metadata": {},
   "outputs": [],
   "source": [
    "import sys"
   ]
  },
  {
   "cell_type": "code",
   "execution_count": 75,
   "id": "f2bbc9d6-1da8-4ab6-895a-bfbd0eeeb3d8",
   "metadata": {},
   "outputs": [],
   "source": [
    "check_ar=[0,5,52,6]"
   ]
  },
  {
   "cell_type": "code",
   "execution_count": 76,
   "id": "f53baf81-5d59-4a44-bb2e-09074921dada",
   "metadata": {},
   "outputs": [],
   "source": [
    "np_ar=np.array(check_ar)"
   ]
  },
  {
   "cell_type": "code",
   "execution_count": 77,
   "id": "62e7ba44-4efd-4916-b4be-6520dfe0bc13",
   "metadata": {},
   "outputs": [
    {
     "data": {
      "text/plain": [
       "112"
      ]
     },
     "execution_count": 77,
     "metadata": {},
     "output_type": "execute_result"
    }
   ],
   "source": [
    "sys.getsizeof(1)*len(check_ar)      ## size of python array"
   ]
  },
  {
   "cell_type": "code",
   "execution_count": 78,
   "id": "fa1c147c-de5d-4b85-8eeb-55ceeb9b3781",
   "metadata": {},
   "outputs": [
    {
     "data": {
      "text/plain": [
       "32"
      ]
     },
     "execution_count": 78,
     "metadata": {},
     "output_type": "execute_result"
    }
   ],
   "source": [
    "np_ar.itemsize*np_ar.size       ## size of numpy array"
   ]
  },
  {
   "cell_type": "code",
   "execution_count": 79,
   "id": "7efd6420-e686-4195-b714-128e5882ceb2",
   "metadata": {},
   "outputs": [
    {
     "data": {
      "text/plain": [
       "[0, 5, 52, 6]"
      ]
     },
     "execution_count": 79,
     "metadata": {},
     "output_type": "execute_result"
    }
   ],
   "source": [
    "np_ar.tolist()"
   ]
  },
  {
   "cell_type": "code",
   "execution_count": null,
   "id": "85b039b1-9017-4f0d-b6e2-04b2ad18907b",
   "metadata": {},
   "outputs": [],
   "source": []
  }
 ],
 "metadata": {
  "kernelspec": {
   "display_name": "Python 3 (ipykernel)",
   "language": "python",
   "name": "python3"
  },
  "language_info": {
   "codemirror_mode": {
    "name": "ipython",
    "version": 3
   },
   "file_extension": ".py",
   "mimetype": "text/x-python",
   "name": "python",
   "nbconvert_exporter": "python",
   "pygments_lexer": "ipython3",
   "version": "3.13.2"
  }
 },
 "nbformat": 4,
 "nbformat_minor": 5
}
